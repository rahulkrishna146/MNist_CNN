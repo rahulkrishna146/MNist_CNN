{
 "cells": [
  {
   "cell_type": "code",
   "execution_count": 2,
   "id": "20f44ad1",
   "metadata": {},
   "outputs": [
    {
     "data": {
      "text/plain": [
       "'2.9.1'"
      ]
     },
     "execution_count": 2,
     "metadata": {},
     "output_type": "execute_result"
    }
   ],
   "source": [
    "import tensorflow as tf\n",
    "\n",
    "tf.__version__"
   ]
  },
  {
   "cell_type": "code",
   "execution_count": 10,
   "id": "336f600b",
   "metadata": {},
   "outputs": [
    {
     "name": "stdout",
     "output_type": "stream",
     "text": [
      "Epoch 1/3\n",
      "1875/1875 [==============================] - 32s 14ms/step - loss: 0.2632 - accuracy: 0.9229\n",
      "Epoch 2/3\n",
      "1875/1875 [==============================] - 29s 16ms/step - loss: 0.1074 - accuracy: 0.9668\n",
      "Epoch 3/3\n",
      "1875/1875 [==============================] - 30s 16ms/step - loss: 0.0730 - accuracy: 0.9773\n"
     ]
    },
    {
     "data": {
      "text/plain": [
       "<keras.callbacks.History at 0x2942f596c48>"
      ]
     },
     "execution_count": 10,
     "metadata": {},
     "output_type": "execute_result"
    }
   ],
   "source": [
    "# load the data \n",
    "mnist = tf.keras.datasets.mnist # 28x 28 images of hand written digits from 0-9\n",
    "# unpack the data \n",
    "(x_train, y_train), (x_test, y_test) = mnist.load_data()\n",
    "\n",
    "# normalise x_train and x_test\n",
    "\n",
    "x_train = tf.keras.utils.normalize(x_train, axis = 1)\n",
    "x_test = tf.keras.utils.normalize(x_test, axis = 1)\n",
    "\n",
    "\n",
    "#bulid the model\n",
    "\n",
    "model = tf.keras.models.Sequential()\n",
    "model.add(tf.keras.layers.Flatten())\n",
    "model.add(tf.keras.layers.Dense(128, activation = tf.nn.relu))\n",
    "model.add(tf.keras.layers.Dense(128, activation = tf.nn.relu))\n",
    "model.add(tf.keras.layers.Dense(10, activation = tf.nn.softmax))\n",
    "\n",
    "#compile the model\n",
    "model.compile(optimizer = 'adam',\n",
    "             loss = 'sparse_categorical_crossentropy',\n",
    "             metrics = ['accuracy'])\n",
    "\n",
    "#fit the model\n",
    "model.fit(x_train, y_train, epochs = 3)"
   ]
  },
  {
   "cell_type": "code",
   "execution_count": 11,
   "id": "5002672d",
   "metadata": {},
   "outputs": [
    {
     "name": "stdout",
     "output_type": "stream",
     "text": [
      "313/313 [==============================] - 5s 13ms/step - loss: 0.0851 - accuracy: 0.9735\n"
     ]
    }
   ],
   "source": [
    "# validating loss and accuracy\n",
    "val_loss, val_acc =model.evaluate(x_test, y_test)"
   ]
  },
  {
   "cell_type": "code",
   "execution_count": 12,
   "id": "2432d1c8",
   "metadata": {},
   "outputs": [
    {
     "name": "stdout",
     "output_type": "stream",
     "text": [
      "INFO:tensorflow:Assets written to: number_reader.model\\assets\n"
     ]
    }
   ],
   "source": [
    "# save the model\n",
    "model.save('number_reader.model')"
   ]
  },
  {
   "cell_type": "code",
   "execution_count": 13,
   "id": "2b0420b9",
   "metadata": {},
   "outputs": [],
   "source": [
    "# load the model\n",
    "new_model = tf.keras.models.load_model('number_reader.model')"
   ]
  },
  {
   "cell_type": "code",
   "execution_count": 21,
   "id": "60328619",
   "metadata": {},
   "outputs": [
    {
     "name": "stdout",
     "output_type": "stream",
     "text": [
      "313/313 [==============================] - 2s 7ms/step\n",
      "[[1.1828921e-08 2.3805142e-06 1.2639441e-04 ... 9.9966967e-01\n",
      "  4.9812922e-08 6.4866305e-07]\n",
      " [1.2039324e-09 1.7814977e-03 9.9821389e-01 ... 1.6027103e-08\n",
      "  7.6143067e-07 1.9473012e-11]\n",
      " [3.3528771e-08 9.9962544e-01 2.5793883e-05 ... 4.1309569e-05\n",
      "  2.8255797e-04 3.1122113e-07]\n",
      " ...\n",
      " [1.3835111e-08 4.3612440e-07 1.9295626e-07 ... 6.3592714e-05\n",
      "  3.5672904e-06 9.7818360e-05]\n",
      " [3.7693269e-07 1.1146670e-05 2.0861523e-06 ... 4.7267946e-07\n",
      "  5.3190342e-03 5.7366695e-08]\n",
      " [5.4330091e-08 1.3708137e-08 1.4615328e-08 ... 5.8476504e-09\n",
      "  1.2441755e-08 1.8706119e-09]]\n"
     ]
    }
   ],
   "source": [
    "#predict some things \n",
    "predictions = new_model.predict([x_test])\n",
    "print(predictions)"
   ]
  },
  {
   "cell_type": "code",
   "execution_count": 22,
   "id": "af1a1b07",
   "metadata": {},
   "outputs": [
    {
     "name": "stdout",
     "output_type": "stream",
     "text": [
      "7\n"
     ]
    }
   ],
   "source": [
    "#checking a prediction \n",
    "import numpy as np\n",
    "print(np.argmax(predictions[0]))"
   ]
  },
  {
   "cell_type": "code",
   "execution_count": null,
   "id": "355f655c",
   "metadata": {},
   "outputs": [],
   "source": []
  },
  {
   "cell_type": "code",
   "execution_count": 16,
   "id": "39032e43",
   "metadata": {},
   "outputs": [
    {
     "data": {
      "image/png": "[encoded data removed]",
      "text/plain": [
       "<Figure size 432x288 with 1 Axes>"
      ]
     },
     "metadata": {
      "needs_background": "light"
     },
     "output_type": "display_data"
    }
   ],
   "source": [
    "# some visualization of data\n",
    "import matplotlib.pyplot as plt\n",
    "\n",
    "plt.imshow(x_test[0], cmap = plt.cm.binary)\n",
    "plt.show()\n",
    "\n",
    "#print(x_train[0])"
   ]
  },
  {
   "cell_type": "code",
   "execution_count": null,
   "id": "e8df7582",
   "metadata": {},
   "outputs": [],
   "source": []
  },
  {
   "cell_type": "code",
   "execution_count": null,
   "id": "a9f23a01",
   "metadata": {},
   "outputs": [],
   "source": []
  },
  {
   "cell_type": "code",
   "execution_count": null,
   "id": "8d10ec99",
   "metadata": {},
   "outputs": [],
   "source": []
  }
 ],
 "metadata": {
  "kernelspec": {
   "display_name": "Python 3 (ipykernel)",
   "language": "python",
   "name": "python3"
  },
  "language_info": {
   "codemirror_mode": {
    "name": "ipython",
    "version": 3
   },
   "file_extension": ".py",
   "mimetype": "text/x-python",
   "name": "python",
   "nbconvert_exporter": "python",
   "pygments_lexer": "ipython3",
   "version": "3.10.4"
  }
 },
 "nbformat": 4,
 "nbformat_minor": 5
}
